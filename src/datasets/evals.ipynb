{
 "cells": [
  {
   "cell_type": "code",
   "execution_count": 2,
   "metadata": {},
   "outputs": [],
   "source": [
    "import os\n",
    "import sys\n",
    "\n",
    "sys.path.append(os.path.abspath(\"../..\"))"
   ]
  },
  {
   "cell_type": "code",
   "execution_count": null,
   "metadata": {},
   "outputs": [],
   "source": [
    "from src.predict import MathProblemPredictor\n",
    "import pandas as pd\n",
    "import polars as pl"
   ]
  },
  {
   "cell_type": "code",
   "execution_count": 27,
   "metadata": {},
   "outputs": [],
   "source": [
    "import kaggle_evaluation.aimo_2_inference_server as server\n",
    "from langchain_google_genai import ChatGoogleGenerativeAI\n",
    "from dotenv import load_dotenv\n",
    "from langchain.globals import set_verbose, set_debug\n",
    "import os\n",
    "\n",
    "set_debug(False)\n",
    "set_verbose(False)\n",
    "\n",
    "load_dotenv(\"../../.env.local\")\n",
    "\n",
    "llm = ChatGoogleGenerativeAI(\n",
    "    model=os.getenv(\"GOOGLE_GENERATIVE_MODEL\"),\n",
    "    temperature=0.7,\n",
    "    max_tokens=1024,\n",
    "    timeout=None,\n",
    "    max_retries=2,\n",
    ")\n",
    "\n",
    "predictor = MathProblemPredictor(model=llm)\n",
    "\n",
    "def predict(id_: pl.DataFrame, question: pl.DataFrame) -> pl.DataFrame | pd.DataFrame:\n",
    "    \"\"\"Make a prediction.\"\"\"\n",
    "    id_ = id_.item(0)\n",
    "    question = question.item(0)\n",
    "    prediction = predictor.predict(question)\n",
    "    answer = prediction.answer\n",
    "    print(prediction.model_dump_json(indent=2))\n",
    "    return pl.DataFrame({\"id\": id_, \"answer\": answer})\n",
    "\n",
    "def start_server(csv_file: str):\n",
    "    inference_server = server.AIMO2InferenceServer(\n",
    "        predict\n",
    "    )\n",
    "\n",
    "    if os.getenv(\"KAGGLE_IS_COMPETITION_RERUN\"):\n",
    "        inference_server.serve()\n",
    "    else:\n",
    "        inference_server.run_local_gateway((csv_file,))"
   ]
  },
  {
   "cell_type": "code",
   "execution_count": 28,
   "metadata": {},
   "outputs": [
    {
     "name": "stderr",
     "output_type": "stream",
     "text": [
      "c:\\Users\\print\\OneDrive\\ドキュメント\\LLM\\kaggle_math_llm\\src\\evals\\kaggle_evaluation\\core\\templates.py:128: RuntimeWarning: 923 seconds elapsed before server startup.\n",
      "                This exceeds the startup time limit of 900 seconds that the gateway will enforce\n",
      "                during the rerun on the hidden test set. Start the server before performing any time consuming steps.\n",
      "  warnings.warn(\n"
     ]
    },
    {
     "name": "stdout",
     "output_type": "stream",
     "text": [
      "{\n",
      "  \"solution\": \"We can solve this problem by considering the number of ways to arrange the players in general, and then subtracting the number of ways in which Fred and George are paired. \\\\\\\\\\n\\\\\\\\\\nThere are $4048!$ ways to arrange the $4048$ players. However, each match can be arranged in $2!$ ways (either player can be listed first), and there are $2024$ matches. So, the number of distinct arrangements of players into matches is $\\\\frac{4048!}{(2!)^ {2024}}$. \\\\\\\\\\n\\\\\\\\\\nTo count the number of arrangements where Fred and George play each other, we can think of them as a single unit. There are $4047!$ ways to arrange these $4047$ units, and then we can arrange Fred and George within their unit in $2!$ ways.  So, there are $4047! \\\\cdot 2!$ arrangements where Fred and George play each other.  \\\\\\\\\\n\\\\\\\\\\nTherefore, the number of arrangements where Fred and George do not play each other is $\\\\frac{4048!}{(2!)^ {2024}} - 4047! \\\\cdot 2! = 4047! \\\\cdot \\\\left( \\\\frac{4048}{2^{2024}} - 2 \\\\right)$.\",\n",
      "  \"steps\": [\n",
      "    \"**1. Count the total number of arrangements:** There are 4048! ways to arrange the 4048 players, but each match can be arranged in 2! ways, so we divide by (2!)^2024 to account for this.\",\n",
      "    \"**2. Count the number of arrangements where Fred and George play each other:** Treat Fred and George as a single unit, there are 4047! ways to arrange these units. Then, multiply by 2! for the arrangements within the Fred-George unit.\",\n",
      "    \"**3. Subtract to find the number of arrangements where Fred and George don't play each other:** Subtract the number of arrangements where they play from the total number of arrangements.\"\n",
      "  ],\n",
      "  \"answer\": 323\n",
      "}\n"
     ]
    },
    {
     "ename": "GatewayRuntimeError",
     "evalue": "(<GatewayRuntimeErrorType.SERVER_RAISED_EXCEPTION: 3>, 'Invalid json output: Here is the solution in JSON format:\\\\n\\\\n```json\\\\n{\\\\\"solution\\\\\": \\\\\"We start by understanding the properties of delightful sequences.  Since the sequence eventually becomes all zeros, the only way for a sequence to be delightful is if the sequence is eventually all zeros, and all of the elements before the zero part of the sequence are less than or equal to the largest index of the sequence.  This is because if there is an element $a_i$ greater than $i$, then $a_i$ will count itself as a multiple of $i$, which means that $a_i$ will never become 0.  Furthermore, if $a_i$ is equal to $i$ for some $i$, then $a_i$ will always be equal to $i$.  So the only way for a sequence to be delightful is if all of the elements are less than or equal to the largest index of the sequence.  We can count the number of delightful sequences by counting the number of possible sequences for each possible largest index of the sequence.  If the largest index of the sequence is $N$, then there are $N+1$ possible values for each of the $N$ terms, so there are $(N+1)^N$ possible sequences.  Therefore, the total number of delightful sequences is $1^1+2^2+3^3+\\\\\\\\ldots$.  We can compute this sum directly, or we can use the fact that the sum of the first $n$ cubes is equal to $(n(n+1)/2)^2$.  Therefore, the sum of the first 10 cubes is $(10\\\\\\\\cdot11/2)^2=3025$, so the answer is 3025.\\\\\", \\\\\"steps\\\\\": [\\\\\"We start by understanding the properties of delightful sequences.\\\\\", \\\\\"Since the sequence eventually becomes all zeros, the only way for a sequence to be delightful is if the sequence is eventually all zeros, and all of the elements before the zero part of the sequence are less than or equal to the largest index of the sequence.\\\\\", \\\\\"This is because if there is an element $a_i$ greater than $i$, then $a_i$ will count itself as a multiple of $i$, which means that $a_i$ will never become 0.\\\\\", \\\\\"Furthermore, if $a_i$ is equal to $i$ for some $i$, then $a_i$ will always be equal to $i$.\\\\\", \\\\\"So the only way for a sequence to be delightful is if all of the elements are less than or equal to the largest index of the sequence.\\\\\", \\\\\"We can count the number of delightful sequences by counting the number of possible sequences for each possible largest index of the sequence.\\\\\", \\\\\"If the largest index of the sequence is $N$, then there are $N+1$ possible values for each of the $N$ terms, so there are $(N+1)^N$ possible sequences.\\\\\", \\\\\"Therefore, the total number of delightful sequences is $1^1+2^2+3^3+\\\\\\\\ldots$.\\\\\", \\\\\"We can compute this sum directly, or we can use the fact that the sum of the first $n$ cubes is equal to $(n(n+1)/2)^2$.\\\\\", \\\\\"Therefore, the sum of the first 10 cubes is $(10\\\\\\\\cdot11/2)^2=3025$, so the answer is 3025.\\\\\"], \\\\\"answer\\\\\": 3025}\\\\n```\\\\nFor troubleshooting, visit: https://python.langchain.com/docs/troubleshooting/errors/OUTPUT_PARSING_FAILURE\"}')",
     "output_type": "error",
     "traceback": [
      "\u001b[1;31m---------------------------------------------------------------------------\u001b[0m",
      "\u001b[1;31mGatewayRuntimeError\u001b[0m                       Traceback (most recent call last)",
      "Cell \u001b[1;32mIn[28], line 1\u001b[0m\n\u001b[1;32m----> 1\u001b[0m \u001b[43mstart_server\u001b[49m\u001b[43m(\u001b[49m\u001b[38;5;124;43m'\u001b[39;49m\u001b[38;5;124;43m./reference2.csv\u001b[39;49m\u001b[38;5;124;43m'\u001b[39;49m\u001b[43m)\u001b[49m\n",
      "Cell \u001b[1;32mIn[27], line 39\u001b[0m, in \u001b[0;36mstart_server\u001b[1;34m(csv_file)\u001b[0m\n\u001b[0;32m     37\u001b[0m     inference_server\u001b[38;5;241m.\u001b[39mserve()\n\u001b[0;32m     38\u001b[0m \u001b[38;5;28;01melse\u001b[39;00m:\n\u001b[1;32m---> 39\u001b[0m     \u001b[43minference_server\u001b[49m\u001b[38;5;241;43m.\u001b[39;49m\u001b[43mrun_local_gateway\u001b[49m\u001b[43m(\u001b[49m\u001b[43m(\u001b[49m\u001b[43mcsv_file\u001b[49m\u001b[43m,\u001b[49m\u001b[43m)\u001b[49m\u001b[43m)\u001b[49m\n",
      "File \u001b[1;32mc:\\Users\\print\\OneDrive\\ドキュメント\\LLM\\kaggle_math_llm\\src\\evals\\kaggle_evaluation\\core\\templates.py:141\u001b[0m, in \u001b[0;36mInferenceServer.run_local_gateway\u001b[1;34m(self, data_paths)\u001b[0m\n\u001b[0;32m    139\u001b[0m     \u001b[38;5;28mself\u001b[39m\u001b[38;5;241m.\u001b[39mgateway\u001b[38;5;241m.\u001b[39mrun()\n\u001b[0;32m    140\u001b[0m \u001b[38;5;28;01mexcept\u001b[39;00m \u001b[38;5;167;01mException\u001b[39;00m \u001b[38;5;28;01mas\u001b[39;00m err:\n\u001b[1;32m--> 141\u001b[0m     \u001b[38;5;28;01mraise\u001b[39;00m err \u001b[38;5;28;01mfrom\u001b[39;00m \u001b[38;5;28;01mNone\u001b[39;00m\n\u001b[0;32m    142\u001b[0m \u001b[38;5;28;01mfinally\u001b[39;00m:\n\u001b[0;32m    143\u001b[0m     \u001b[38;5;28mself\u001b[39m\u001b[38;5;241m.\u001b[39mserver\u001b[38;5;241m.\u001b[39mstop(\u001b[38;5;241m0\u001b[39m)\n",
      "File \u001b[1;32mc:\\Users\\print\\OneDrive\\ドキュメント\\LLM\\kaggle_math_llm\\src\\evals\\kaggle_evaluation\\core\\templates.py:139\u001b[0m, in \u001b[0;36mInferenceServer.run_local_gateway\u001b[1;34m(self, data_paths)\u001b[0m\n\u001b[0;32m    137\u001b[0m \u001b[38;5;28;01mtry\u001b[39;00m:\n\u001b[0;32m    138\u001b[0m     \u001b[38;5;28mself\u001b[39m\u001b[38;5;241m.\u001b[39mgateway \u001b[38;5;241m=\u001b[39m \u001b[38;5;28mself\u001b[39m\u001b[38;5;241m.\u001b[39m_get_gateway_for_test(data_paths)\n\u001b[1;32m--> 139\u001b[0m     \u001b[38;5;28;43mself\u001b[39;49m\u001b[38;5;241;43m.\u001b[39;49m\u001b[43mgateway\u001b[49m\u001b[38;5;241;43m.\u001b[39;49m\u001b[43mrun\u001b[49m\u001b[43m(\u001b[49m\u001b[43m)\u001b[49m\n\u001b[0;32m    140\u001b[0m \u001b[38;5;28;01mexcept\u001b[39;00m \u001b[38;5;167;01mException\u001b[39;00m \u001b[38;5;28;01mas\u001b[39;00m err:\n\u001b[0;32m    141\u001b[0m     \u001b[38;5;28;01mraise\u001b[39;00m err \u001b[38;5;28;01mfrom\u001b[39;00m \u001b[38;5;28;01mNone\u001b[39;00m\n",
      "File \u001b[1;32mc:\\Users\\print\\OneDrive\\ドキュメント\\LLM\\kaggle_math_llm\\src\\evals\\kaggle_evaluation\\core\\templates.py:98\u001b[0m, in \u001b[0;36mGateway.run\u001b[1;34m(self)\u001b[0m\n\u001b[0;32m     95\u001b[0m     \u001b[38;5;28mself\u001b[39m\u001b[38;5;241m.\u001b[39mwrite_result(error)\n\u001b[0;32m     96\u001b[0m \u001b[38;5;28;01melif\u001b[39;00m error:\n\u001b[0;32m     97\u001b[0m     \u001b[38;5;66;03m# For local testing\u001b[39;00m\n\u001b[1;32m---> 98\u001b[0m     \u001b[38;5;28;01mraise\u001b[39;00m error\n",
      "File \u001b[1;32mc:\\Users\\print\\OneDrive\\ドキュメント\\LLM\\kaggle_math_llm\\src\\evals\\kaggle_evaluation\\core\\templates.py:76\u001b[0m, in \u001b[0;36mGateway.run\u001b[1;34m(self)\u001b[0m\n\u001b[0;32m     74\u001b[0m \u001b[38;5;28;01mtry\u001b[39;00m:\n\u001b[0;32m     75\u001b[0m     \u001b[38;5;28mself\u001b[39m\u001b[38;5;241m.\u001b[39munpack_data_paths()\n\u001b[1;32m---> 76\u001b[0m     predictions \u001b[38;5;241m=\u001b[39m \u001b[38;5;28;43mself\u001b[39;49m\u001b[38;5;241;43m.\u001b[39;49m\u001b[43mget_all_predictions\u001b[49m\u001b[43m(\u001b[49m\u001b[43m)\u001b[49m\n\u001b[0;32m     77\u001b[0m     \u001b[38;5;28mself\u001b[39m\u001b[38;5;241m.\u001b[39mwrite_submission(predictions)\n\u001b[0;32m     78\u001b[0m \u001b[38;5;28;01mexcept\u001b[39;00m kaggle_evaluation\u001b[38;5;241m.\u001b[39mcore\u001b[38;5;241m.\u001b[39mbase_gateway\u001b[38;5;241m.\u001b[39mGatewayRuntimeError \u001b[38;5;28;01mas\u001b[39;00m gre:\n",
      "File \u001b[1;32mc:\\Users\\print\\OneDrive\\ドキュメント\\LLM\\kaggle_math_llm\\src\\evals\\kaggle_evaluation\\core\\templates.py:53\u001b[0m, in \u001b[0;36mGateway.get_all_predictions\u001b[1;34m(self)\u001b[0m\n\u001b[0;32m     51\u001b[0m all_predictions \u001b[38;5;241m=\u001b[39m []\n\u001b[0;32m     52\u001b[0m \u001b[38;5;28;01mfor\u001b[39;00m data_batch, validation_batch \u001b[38;5;129;01min\u001b[39;00m \u001b[38;5;28mself\u001b[39m\u001b[38;5;241m.\u001b[39mgenerate_data_batches():\n\u001b[1;32m---> 53\u001b[0m     predictions \u001b[38;5;241m=\u001b[39m \u001b[38;5;28;43mself\u001b[39;49m\u001b[38;5;241;43m.\u001b[39;49m\u001b[43mpredict\u001b[49m\u001b[43m(\u001b[49m\u001b[38;5;241;43m*\u001b[39;49m\u001b[43mdata_batch\u001b[49m\u001b[43m)\u001b[49m\n\u001b[0;32m     54\u001b[0m     \u001b[38;5;28mself\u001b[39m\u001b[38;5;241m.\u001b[39mvalidate_prediction_batch(predictions, validation_batch)\n\u001b[0;32m     55\u001b[0m     all_predictions\u001b[38;5;241m.\u001b[39mappend(predictions)\n",
      "File \u001b[1;32mc:\\Users\\print\\OneDrive\\ドキュメント\\LLM\\kaggle_math_llm\\src\\evals\\kaggle_evaluation\\core\\templates.py:66\u001b[0m, in \u001b[0;36mGateway.predict\u001b[1;34m(self, *args, **kwargs)\u001b[0m\n\u001b[0;32m     64\u001b[0m     \u001b[38;5;28;01mreturn\u001b[39;00m \u001b[38;5;28mself\u001b[39m\u001b[38;5;241m.\u001b[39mclient\u001b[38;5;241m.\u001b[39msend(\u001b[38;5;124m'\u001b[39m\u001b[38;5;124mpredict\u001b[39m\u001b[38;5;124m'\u001b[39m, \u001b[38;5;241m*\u001b[39margs, \u001b[38;5;241m*\u001b[39m\u001b[38;5;241m*\u001b[39mkwargs)\n\u001b[0;32m     65\u001b[0m \u001b[38;5;28;01mexcept\u001b[39;00m \u001b[38;5;167;01mException\u001b[39;00m \u001b[38;5;28;01mas\u001b[39;00m e:\n\u001b[1;32m---> 66\u001b[0m     \u001b[38;5;28;43mself\u001b[39;49m\u001b[38;5;241;43m.\u001b[39;49m\u001b[43mhandle_server_error\u001b[49m\u001b[43m(\u001b[49m\u001b[43me\u001b[49m\u001b[43m,\u001b[49m\u001b[43m \u001b[49m\u001b[38;5;124;43m'\u001b[39;49m\u001b[38;5;124;43mpredict\u001b[39;49m\u001b[38;5;124;43m'\u001b[39;49m\u001b[43m)\u001b[49m\n",
      "File \u001b[1;32mc:\\Users\\print\\OneDrive\\ドキュメント\\LLM\\kaggle_math_llm\\src\\evals\\kaggle_evaluation\\core\\base_gateway.py:191\u001b[0m, in \u001b[0;36mBaseGateway.handle_server_error\u001b[1;34m(self, exception, endpoint)\u001b[0m\n\u001b[0;32m    189\u001b[0m     message_match \u001b[38;5;241m=\u001b[39m re\u001b[38;5;241m.\u001b[39msearch(\u001b[38;5;124m'\u001b[39m\u001b[38;5;124m\"\u001b[39m\u001b[38;5;124mException calling application: (.*)\u001b[39m\u001b[38;5;124m\"\u001b[39m\u001b[38;5;124m'\u001b[39m, exception_str, re\u001b[38;5;241m.\u001b[39mIGNORECASE)\n\u001b[0;32m    190\u001b[0m     message \u001b[38;5;241m=\u001b[39m message_match\u001b[38;5;241m.\u001b[39mgroup(\u001b[38;5;241m1\u001b[39m) \u001b[38;5;28;01mif\u001b[39;00m message_match \u001b[38;5;28;01melse\u001b[39;00m exception_str\n\u001b[1;32m--> 191\u001b[0m     \u001b[38;5;28;01mraise\u001b[39;00m GatewayRuntimeError(GatewayRuntimeErrorType\u001b[38;5;241m.\u001b[39mSERVER_RAISED_EXCEPTION, message) \u001b[38;5;28;01mfrom\u001b[39;00m \u001b[38;5;28;01mNone\u001b[39;00m\n\u001b[0;32m    192\u001b[0m \u001b[38;5;28;01mif\u001b[39;00m \u001b[38;5;28misinstance\u001b[39m(exception, grpc\u001b[38;5;241m.\u001b[39m_channel\u001b[38;5;241m.\u001b[39m_InactiveRpcError):\n\u001b[0;32m    193\u001b[0m     \u001b[38;5;28;01mraise\u001b[39;00m GatewayRuntimeError(GatewayRuntimeErrorType\u001b[38;5;241m.\u001b[39mSERVER_CONNECTION_FAILED, exception_str) \u001b[38;5;28;01mfrom\u001b[39;00m \u001b[38;5;28;01mNone\u001b[39;00m\n",
      "\u001b[1;31mGatewayRuntimeError\u001b[0m: (<GatewayRuntimeErrorType.SERVER_RAISED_EXCEPTION: 3>, 'Invalid json output: Here is the solution in JSON format:\\\\n\\\\n```json\\\\n{\\\\\"solution\\\\\": \\\\\"We start by understanding the properties of delightful sequences.  Since the sequence eventually becomes all zeros, the only way for a sequence to be delightful is if the sequence is eventually all zeros, and all of the elements before the zero part of the sequence are less than or equal to the largest index of the sequence.  This is because if there is an element $a_i$ greater than $i$, then $a_i$ will count itself as a multiple of $i$, which means that $a_i$ will never become 0.  Furthermore, if $a_i$ is equal to $i$ for some $i$, then $a_i$ will always be equal to $i$.  So the only way for a sequence to be delightful is if all of the elements are less than or equal to the largest index of the sequence.  We can count the number of delightful sequences by counting the number of possible sequences for each possible largest index of the sequence.  If the largest index of the sequence is $N$, then there are $N+1$ possible values for each of the $N$ terms, so there are $(N+1)^N$ possible sequences.  Therefore, the total number of delightful sequences is $1^1+2^2+3^3+\\\\\\\\ldots$.  We can compute this sum directly, or we can use the fact that the sum of the first $n$ cubes is equal to $(n(n+1)/2)^2$.  Therefore, the sum of the first 10 cubes is $(10\\\\\\\\cdot11/2)^2=3025$, so the answer is 3025.\\\\\", \\\\\"steps\\\\\": [\\\\\"We start by understanding the properties of delightful sequences.\\\\\", \\\\\"Since the sequence eventually becomes all zeros, the only way for a sequence to be delightful is if the sequence is eventually all zeros, and all of the elements before the zero part of the sequence are less than or equal to the largest index of the sequence.\\\\\", \\\\\"This is because if there is an element $a_i$ greater than $i$, then $a_i$ will count itself as a multiple of $i$, which means that $a_i$ will never become 0.\\\\\", \\\\\"Furthermore, if $a_i$ is equal to $i$ for some $i$, then $a_i$ will always be equal to $i$.\\\\\", \\\\\"So the only way for a sequence to be delightful is if all of the elements are less than or equal to the largest index of the sequence.\\\\\", \\\\\"We can count the number of delightful sequences by counting the number of possible sequences for each possible largest index of the sequence.\\\\\", \\\\\"If the largest index of the sequence is $N$, then there are $N+1$ possible values for each of the $N$ terms, so there are $(N+1)^N$ possible sequences.\\\\\", \\\\\"Therefore, the total number of delightful sequences is $1^1+2^2+3^3+\\\\\\\\ldots$.\\\\\", \\\\\"We can compute this sum directly, or we can use the fact that the sum of the first $n$ cubes is equal to $(n(n+1)/2)^2$.\\\\\", \\\\\"Therefore, the sum of the first 10 cubes is $(10\\\\\\\\cdot11/2)^2=3025$, so the answer is 3025.\\\\\"], \\\\\"answer\\\\\": 3025}\\\\n```\\\\nFor troubleshooting, visit: https://python.langchain.com/docs/troubleshooting/errors/OUTPUT_PARSING_FAILURE\"}')"
     ]
    }
   ],
   "source": [
    "start_server('./reference2.csv')"
   ]
  },
  {
   "cell_type": "code",
   "execution_count": null,
   "metadata": {},
   "outputs": [],
   "source": []
  }
 ],
 "metadata": {
  "kernelspec": {
   "display_name": "Python 3",
   "language": "python",
   "name": "python3"
  },
  "language_info": {
   "codemirror_mode": {
    "name": "ipython",
    "version": 3
   },
   "file_extension": ".py",
   "mimetype": "text/x-python",
   "name": "python",
   "nbconvert_exporter": "python",
   "pygments_lexer": "ipython3",
   "version": "3.11.1"
  }
 },
 "nbformat": 4,
 "nbformat_minor": 2
}
